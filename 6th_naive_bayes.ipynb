{
 "cells": [
  {
   "cell_type": "markdown",
   "id": "d892c3f2",
   "metadata": {},
   "source": [
    "## Naive Bayesian Classifier\n",
    "## Lab 6: Write a Program to implement the naive bayesian classifier for a sample training data set stored as a .CSV file. Compute the accuracy of the classifier few test data sets."
   ]
  },
  {
   "cell_type": "code",
   "execution_count": 5,
   "id": "26e75556",
   "metadata": {},
   "outputs": [
    {
     "name": "stdout",
     "output_type": "stream",
     "text": [
      "Given dataset:\n",
      "      outlook  temp humidity    wind play\n",
      "0      sunny   hot     high    weak   no\n",
      "1      sunny   hot     high  strong   no\n",
      "2   overcast   hot     high    weak  yes\n",
      "3      rainy  mild     high    weak  yes\n",
      "4      rainy  cool   normal    weak  yes\n",
      "5      rainy  cool   normal  strong   no\n",
      "6   overcast  cool   normal  strong  yes\n",
      "7      sunny  mild     high    weak   no\n",
      "8      sunny  cool   normal    weak  yes\n",
      "9      rainy  mild   normal    weak  yes\n",
      "10     sunny  mild   normal  strong  yes\n",
      "11  overcast  mild     high  strong  yes\n",
      "12  overcast   hot   normal    weak  yes\n",
      "13     rainy  mild     high  strong   no \n",
      "\n"
     ]
    }
   ],
   "source": [
    "import pandas as pd\n",
    "\n",
    "data = pd.read_csv(\"playTennis.csv\")\n",
    "print(\"Given dataset:\\n\", data,\"\\n\")"
   ]
  },
  {
   "cell_type": "code",
   "execution_count": 6,
   "id": "5a706bea",
   "metadata": {},
   "outputs": [
    {
     "name": "stdout",
     "output_type": "stream",
     "text": [
      "the encoded dataset is:\n",
      "     outlook  temp  humidity  wind  play\n",
      "0         2     1         0     1     0\n",
      "1         2     1         0     0     0\n",
      "2         0     1         0     1     1\n",
      "3         1     2         0     1     1\n",
      "4         1     0         1     1     1\n",
      "5         1     0         1     0     0\n",
      "6         0     0         1     0     1\n",
      "7         2     2         0     1     0\n",
      "8         2     0         1     1     1\n",
      "9         1     2         1     1     1\n",
      "10        2     2         1     0     1\n",
      "11        0     2         0     0     1\n",
      "12        0     1         1     1     1\n",
      "13        1     2         0     0     0\n"
     ]
    }
   ],
   "source": [
    "from sklearn.preprocessing import LabelEncoder\n",
    "Le = LabelEncoder()\n",
    "\n",
    "data['outlook'] = Le.fit_transform(data['outlook'])\n",
    "data['temp'] = Le.fit_transform(data['temp'])\n",
    "data['humidity'] = Le.fit_transform(data['humidity'])\n",
    "data['wind'] = Le.fit_transform(data['wind'])\n",
    "data['play'] = Le.fit_transform(data['play'])\n",
    "\n",
    "print(\"the encoded dataset is:\\n\",data)"
   ]
  },
  {
   "cell_type": "code",
   "execution_count": 7,
   "id": "b6ec1f0a",
   "metadata": {},
   "outputs": [],
   "source": [
    "X = data.drop(['play'],axis=1) \n",
    "y = data['play']              "
   ]
  },
  {
   "cell_type": "code",
   "execution_count": 8,
   "id": "cd880be2",
   "metadata": {},
   "outputs": [
    {
     "name": "stdout",
     "output_type": "stream",
     "text": [
      "\n",
      " X_train:\n",
      "     outlook  temp  humidity  wind\n",
      "1         2     1         0     0\n",
      "4         1     0         1     1\n",
      "11        0     2         0     0\n",
      "9         1     2         1     1\n",
      "0         2     1         0     1\n",
      "5         1     0         1     0\n",
      "6         0     0         1     0\n",
      "2         0     1         0     1\n",
      "7         2     2         0     1\n",
      "13        1     2         0     0\n",
      "8         2     0         1     1\n",
      "\n",
      " y_train:\n",
      " 1     0\n",
      "4     1\n",
      "11    1\n",
      "9     1\n",
      "0     0\n",
      "5     0\n",
      "6     1\n",
      "2     1\n",
      "7     0\n",
      "13    0\n",
      "8     1\n",
      "Name: play, dtype: int32\n",
      "\n",
      " X_test:\n",
      "     outlook  temp  humidity  wind\n",
      "12        0     1         1     1\n",
      "10        2     2         1     0\n",
      "3         1     2         0     1\n",
      "\n",
      " y_test:\n",
      " 12    1\n",
      "10    1\n",
      "3     1\n",
      "Name: play, dtype: int32\n"
     ]
    }
   ],
   "source": [
    "from sklearn.model_selection import train_test_split\n",
    "from sklearn.naive_bayes import GaussianNB\n",
    "from sklearn.metrics import accuracy_score\n",
    "\n",
    "X_train, X_test, y_train, y_test = train_test_split(X,y, test_size=0.20)\n",
    "print(\"\\n X_train:\\n\",X_train)\n",
    "print(\"\\n y_train:\\n\",y_train)\n",
    "print(\"\\n X_test:\\n\",X_test)\n",
    "print(\"\\n y_test:\\n\",y_test)"
   ]
  },
  {
   "cell_type": "code",
   "execution_count": 9,
   "id": "57e78e33",
   "metadata": {},
   "outputs": [
    {
     "name": "stdout",
     "output_type": "stream",
     "text": [
      "\n",
      " Accuracy is: 0.3333333333333333\n"
     ]
    }
   ],
   "source": [
    "classifier = GaussianNB()\n",
    "classifier.fit(X_train,y_train)\n",
    "\n",
    "accuracy = accuracy_score(classifier.predict(X_test),y_test)\n",
    "print(\"\\n Accuracy is:\",accuracy)"
   ]
  },
  {
   "cell_type": "code",
   "execution_count": null,
   "id": "d7c2835c",
   "metadata": {},
   "outputs": [],
   "source": []
  }
 ],
 "metadata": {
  "kernelspec": {
   "display_name": "Python 3 (ipykernel)",
   "language": "python",
   "name": "python3"
  },
  "language_info": {
   "codemirror_mode": {
    "name": "ipython",
    "version": 3
   },
   "file_extension": ".py",
   "mimetype": "text/x-python",
   "name": "python",
   "nbconvert_exporter": "python",
   "pygments_lexer": "ipython3",
   "version": "3.8.8"
  }
 },
 "nbformat": 4,
 "nbformat_minor": 5
}
